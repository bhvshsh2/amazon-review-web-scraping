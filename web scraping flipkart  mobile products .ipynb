{
 "cells": [
  {
   "cell_type": "code",
   "execution_count": 26,
   "metadata": {},
   "outputs": [],
   "source": [
    "from bs4 import BeautifulSoup\n",
    "import urllib.request,urllib.parse,urllib.error\n",
    "#import webbrowser as w\n",
    "#import time\n",
    "\n",
    "#url='https://www.flipkart.com/search?q=mi%20mobiles&otracker=search&otracker1=search&marketplace=FLIPKART&as-show=on&as=off'\n",
    "#url='https://www.flipkart.com/search?q=mi+mobiles&otracker=search&otracker1=search&marketplace=FLIPKART&as-show=on&as=off&page=2'\n",
    "url='https://courses.laimoon.com/uae/engineering/?page=11'\n",
    "html = urllib.request.urlopen(url)\n",
    "\n",
    "soup=BeautifulSoup(html,'html.parser')"
   ]
  },
  {
   "cell_type": "code",
   "execution_count": 27,
   "metadata": {},
   "outputs": [],
   "source": [
    "course_name=soup.find_all(\"span\",{\"class\":\"truncate\"})"
   ]
  },
  {
   "cell_type": "code",
   "execution_count": 28,
   "metadata": {},
   "outputs": [
    {
     "data": {
      "text/plain": [
       "['Certified Electronics Design Associate',\n",
       " 'Electrical Safety Awareness in the Workplace',\n",
       " 'General Electrical  Level 2 Certificate ',\n",
       " 'Electrical Safety',\n",
       " 'Autodesk Software Training Bundle (AutoCAD, Revit, 3DS Max, & More)']"
      ]
     },
     "execution_count": 28,
     "metadata": {},
     "output_type": "execute_result"
    }
   ],
   "source": [
    "course_names=[]\n",
    "for i in range(0,len(course_name)):\n",
    "    course_names.append(course_name[i].get_text())\n",
    "course_names"
   ]
  },
  {
   "cell_type": "code",
   "execution_count": 35,
   "metadata": {},
   "outputs": [
    {
     "ename": "AttributeError",
     "evalue": "ResultSet object has no attribute 'get_text'. You're probably treating a list of items like a single item. Did you call find_all() when you meant to call find()?",
     "output_type": "error",
     "traceback": [
      "\u001b[1;31m---------------------------------------------------------------------------\u001b[0m",
      "\u001b[1;31mAttributeError\u001b[0m                            Traceback (most recent call last)",
      "\u001b[1;32m<ipython-input-35-f116b0f27077>\u001b[0m in \u001b[0;36m<module>\u001b[1;34m\u001b[0m\n\u001b[0;32m      1\u001b[0m \u001b[0mprice\u001b[0m\u001b[1;33m=\u001b[0m\u001b[0msoup\u001b[0m\u001b[1;33m.\u001b[0m\u001b[0mfind_all\u001b[0m\u001b[1;33m(\u001b[0m\u001b[1;34m\"span\"\u001b[0m\u001b[1;33m,\u001b[0m\u001b[1;33m{\u001b[0m\u001b[1;34m\"class\"\u001b[0m\u001b[1;33m:\u001b[0m\u001b[1;34m\"info1\"\u001b[0m\u001b[1;33m}\u001b[0m\u001b[1;33m)\u001b[0m\u001b[1;33m\u001b[0m\u001b[1;33m\u001b[0m\u001b[0m\n\u001b[1;32m----> 2\u001b[1;33m \u001b[0mprice\u001b[0m\u001b[1;33m.\u001b[0m\u001b[0mget_text\u001b[0m\u001b[1;33m(\u001b[0m\u001b[1;33m)\u001b[0m\u001b[1;33m\u001b[0m\u001b[1;33m\u001b[0m\u001b[0m\n\u001b[0m",
      "\u001b[1;32m~\\Anaconda3\\lib\\site-packages\\bs4\\element.py\u001b[0m in \u001b[0;36m__getattr__\u001b[1;34m(self, key)\u001b[0m\n\u001b[0;32m   1618\u001b[0m     \u001b[1;32mdef\u001b[0m \u001b[0m__getattr__\u001b[0m\u001b[1;33m(\u001b[0m\u001b[0mself\u001b[0m\u001b[1;33m,\u001b[0m \u001b[0mkey\u001b[0m\u001b[1;33m)\u001b[0m\u001b[1;33m:\u001b[0m\u001b[1;33m\u001b[0m\u001b[1;33m\u001b[0m\u001b[0m\n\u001b[0;32m   1619\u001b[0m         raise AttributeError(\n\u001b[1;32m-> 1620\u001b[1;33m             \u001b[1;34m\"ResultSet object has no attribute '%s'. You're probably treating a list of items like a single item. Did you call find_all() when you meant to call find()?\"\u001b[0m \u001b[1;33m%\u001b[0m \u001b[0mkey\u001b[0m\u001b[1;33m\u001b[0m\u001b[1;33m\u001b[0m\u001b[0m\n\u001b[0m\u001b[0;32m   1621\u001b[0m         )\n",
      "\u001b[1;31mAttributeError\u001b[0m: ResultSet object has no attribute 'get_text'. You're probably treating a list of items like a single item. Did you call find_all() when you meant to call find()?"
     ]
    }
   ],
   "source": [
    "price=soup.find_all(\"span\",{\"class\":\"info1\"})\n",
    "price.get_text()"
   ]
  },
  {
   "cell_type": "code",
   "execution_count": 34,
   "metadata": {},
   "outputs": [
    {
     "data": {
      "text/plain": [
       "5"
      ]
     },
     "execution_count": 34,
     "metadata": {},
     "output_type": "execute_result"
    }
   ],
   "source": [
    "prices=[]\n",
    "for i in range(0,len(price)):\n",
    "    prices.append(price[i].get_text())\n",
    "len(prices)"
   ]
  },
  {
   "cell_type": "code",
   "execution_count": 42,
   "metadata": {},
   "outputs": [
    {
     "data": {
      "text/plain": [
       "24"
      ]
     },
     "execution_count": 42,
     "metadata": {},
     "output_type": "execute_result"
    }
   ],
   "source": [
    "rating=soup.find_all(\"div\",{\"class\":\"hGSR34\"})\n",
    "len(rating)"
   ]
  },
  {
   "cell_type": "code",
   "execution_count": 43,
   "metadata": {},
   "outputs": [
    {
     "data": {
      "text/plain": [
       "['4.3',\n",
       " '4.5',\n",
       " '4.5',\n",
       " '4.3',\n",
       " '4.1',\n",
       " '4.4',\n",
       " '4.5',\n",
       " '4.2',\n",
       " '4.3',\n",
       " '4.4',\n",
       " '4.5',\n",
       " '4.1',\n",
       " '4.5',\n",
       " '4.5',\n",
       " '4.1',\n",
       " '4.3',\n",
       " '4.4',\n",
       " '4.4',\n",
       " '4.4',\n",
       " '4.4',\n",
       " '4.4',\n",
       " '4.3',\n",
       " '4.2',\n",
       " '4.3']"
      ]
     },
     "execution_count": 43,
     "metadata": {},
     "output_type": "execute_result"
    }
   ],
   "source": [
    "ratings=[]\n",
    "for i in range(0,len(rating)):\n",
    "    ratings.append(rating[i].get_text())\n",
    "ratings"
   ]
  },
  {
   "cell_type": "code",
   "execution_count": 44,
   "metadata": {},
   "outputs": [],
   "source": [
    "import pandas as pd\n",
    "\n",
    "df=pd.DataFrame()"
   ]
  },
  {
   "cell_type": "code",
   "execution_count": 45,
   "metadata": {},
   "outputs": [],
   "source": [
    "df['Produt name']=pnames"
   ]
  },
  {
   "cell_type": "code",
   "execution_count": 46,
   "metadata": {},
   "outputs": [
    {
     "data": {
      "text/html": [
       "<div>\n",
       "<style scoped>\n",
       "    .dataframe tbody tr th:only-of-type {\n",
       "        vertical-align: middle;\n",
       "    }\n",
       "\n",
       "    .dataframe tbody tr th {\n",
       "        vertical-align: top;\n",
       "    }\n",
       "\n",
       "    .dataframe thead th {\n",
       "        text-align: right;\n",
       "    }\n",
       "</style>\n",
       "<table border=\"1\" class=\"dataframe\">\n",
       "  <thead>\n",
       "    <tr style=\"text-align: right;\">\n",
       "      <th></th>\n",
       "      <th>Produt name</th>\n",
       "      <th>Product Price</th>\n",
       "      <th>Ratings</th>\n",
       "    </tr>\n",
       "  </thead>\n",
       "  <tbody>\n",
       "    <tr>\n",
       "      <th>0</th>\n",
       "      <td>Redmi Note 3 (Gold, 32 GB)</td>\n",
       "      <td>₹11,999</td>\n",
       "      <td>4.3</td>\n",
       "    </tr>\n",
       "    <tr>\n",
       "      <th>1</th>\n",
       "      <td>Redmi K20 (Glacier Blue, 128 GB)</td>\n",
       "      <td>₹24,999</td>\n",
       "      <td>4.5</td>\n",
       "    </tr>\n",
       "    <tr>\n",
       "      <th>2</th>\n",
       "      <td>Redmi Note 5 Pro (Gold, 64 GB)</td>\n",
       "      <td>₹13,999</td>\n",
       "      <td>4.5</td>\n",
       "    </tr>\n",
       "    <tr>\n",
       "      <th>3</th>\n",
       "      <td>Mi Mix 2 (Black, 128 GB)</td>\n",
       "      <td>₹29,999</td>\n",
       "      <td>4.3</td>\n",
       "    </tr>\n",
       "    <tr>\n",
       "      <th>4</th>\n",
       "      <td>Mi A2 (Lake Blue, 128 GB)</td>\n",
       "      <td>₹16,899</td>\n",
       "      <td>4.1</td>\n",
       "    </tr>\n",
       "    <tr>\n",
       "      <th>5</th>\n",
       "      <td>Redmi Note 5 (Rose Gold, 32 GB)</td>\n",
       "      <td>₹10,999</td>\n",
       "      <td>4.4</td>\n",
       "    </tr>\n",
       "    <tr>\n",
       "      <th>6</th>\n",
       "      <td>Redmi K20 (Carbon Black, 128 GB)</td>\n",
       "      <td>₹24,999</td>\n",
       "      <td>4.5</td>\n",
       "    </tr>\n",
       "    <tr>\n",
       "      <th>7</th>\n",
       "      <td>Mi 4i (Yellow, 16 GB)</td>\n",
       "      <td>₹12,999</td>\n",
       "      <td>4.2</td>\n",
       "    </tr>\n",
       "    <tr>\n",
       "      <th>8</th>\n",
       "      <td>Redmi 7 (Lunar Red, 32 GB)</td>\n",
       "      <td>₹7,999</td>\n",
       "      <td>4.3</td>\n",
       "    </tr>\n",
       "    <tr>\n",
       "      <th>9</th>\n",
       "      <td>MI3 (Metallic Grey, 16 GB)</td>\n",
       "      <td>₹13,999</td>\n",
       "      <td>4.4</td>\n",
       "    </tr>\n",
       "    <tr>\n",
       "      <th>10</th>\n",
       "      <td>Redmi K20 (Pearl White, 128 GB)</td>\n",
       "      <td>₹24,999</td>\n",
       "      <td>4.5</td>\n",
       "    </tr>\n",
       "    <tr>\n",
       "      <th>11</th>\n",
       "      <td>Mi A2 (Red, 128 GB)</td>\n",
       "      <td>₹16,899</td>\n",
       "      <td>4.1</td>\n",
       "    </tr>\n",
       "    <tr>\n",
       "      <th>12</th>\n",
       "      <td>Redmi K20 (Glacier Blue, 64 GB)</td>\n",
       "      <td>₹21,999</td>\n",
       "      <td>4.5</td>\n",
       "    </tr>\n",
       "    <tr>\n",
       "      <th>13</th>\n",
       "      <td>Redmi K20 (Pearl White, 64 GB)</td>\n",
       "      <td>₹21,999</td>\n",
       "      <td>4.5</td>\n",
       "    </tr>\n",
       "    <tr>\n",
       "      <th>14</th>\n",
       "      <td>Mi A2 (Gold, 128 GB)</td>\n",
       "      <td>₹16,899</td>\n",
       "      <td>4.1</td>\n",
       "    </tr>\n",
       "    <tr>\n",
       "      <th>15</th>\n",
       "      <td>Redmi 7 (Comet Blue, 32 GB)</td>\n",
       "      <td>₹7,995</td>\n",
       "      <td>4.3</td>\n",
       "    </tr>\n",
       "    <tr>\n",
       "      <th>16</th>\n",
       "      <td>Redmi Note 8 (Moonlight White, 64 GB)</td>\n",
       "      <td>₹12,999</td>\n",
       "      <td>4.4</td>\n",
       "    </tr>\n",
       "    <tr>\n",
       "      <th>17</th>\n",
       "      <td>Redmi Note 8 (Neptune Blue, 64 GB)</td>\n",
       "      <td>₹12,993</td>\n",
       "      <td>4.4</td>\n",
       "    </tr>\n",
       "    <tr>\n",
       "      <th>18</th>\n",
       "      <td>Redmi Note 5 (Black, 64 GB)</td>\n",
       "      <td>₹12,500</td>\n",
       "      <td>4.4</td>\n",
       "    </tr>\n",
       "    <tr>\n",
       "      <th>19</th>\n",
       "      <td>Redmi Y3 (Prime Black, 64 GB)</td>\n",
       "      <td>₹12,999</td>\n",
       "      <td>4.4</td>\n",
       "    </tr>\n",
       "    <tr>\n",
       "      <th>20</th>\n",
       "      <td>Redmi Y3 (Elegant Blue, 64 GB)</td>\n",
       "      <td>₹12,999</td>\n",
       "      <td>4.4</td>\n",
       "    </tr>\n",
       "    <tr>\n",
       "      <th>21</th>\n",
       "      <td>Redmi 8A Dual (Sea Blue, 32 GB)</td>\n",
       "      <td>₹7,298</td>\n",
       "      <td>4.3</td>\n",
       "    </tr>\n",
       "    <tr>\n",
       "      <th>22</th>\n",
       "      <td>Mi A2 (Red, 64 GB)</td>\n",
       "      <td>₹10,599</td>\n",
       "      <td>4.2</td>\n",
       "    </tr>\n",
       "    <tr>\n",
       "      <th>23</th>\n",
       "      <td>Redmi Go (Blue, 16 GB)</td>\n",
       "      <td>₹6,500</td>\n",
       "      <td>4.3</td>\n",
       "    </tr>\n",
       "  </tbody>\n",
       "</table>\n",
       "</div>"
      ],
      "text/plain": [
       "                              Produt name Product Price Ratings\n",
       "0              Redmi Note 3 (Gold, 32 GB)       ₹11,999     4.3\n",
       "1        Redmi K20 (Glacier Blue, 128 GB)       ₹24,999     4.5\n",
       "2          Redmi Note 5 Pro (Gold, 64 GB)       ₹13,999     4.5\n",
       "3                Mi Mix 2 (Black, 128 GB)       ₹29,999     4.3\n",
       "4               Mi A2 (Lake Blue, 128 GB)       ₹16,899     4.1\n",
       "5         Redmi Note 5 (Rose Gold, 32 GB)       ₹10,999     4.4\n",
       "6        Redmi K20 (Carbon Black, 128 GB)       ₹24,999     4.5\n",
       "7                   Mi 4i (Yellow, 16 GB)       ₹12,999     4.2\n",
       "8              Redmi 7 (Lunar Red, 32 GB)        ₹7,999     4.3\n",
       "9              MI3 (Metallic Grey, 16 GB)       ₹13,999     4.4\n",
       "10        Redmi K20 (Pearl White, 128 GB)       ₹24,999     4.5\n",
       "11                    Mi A2 (Red, 128 GB)       ₹16,899     4.1\n",
       "12        Redmi K20 (Glacier Blue, 64 GB)       ₹21,999     4.5\n",
       "13         Redmi K20 (Pearl White, 64 GB)       ₹21,999     4.5\n",
       "14                   Mi A2 (Gold, 128 GB)       ₹16,899     4.1\n",
       "15            Redmi 7 (Comet Blue, 32 GB)        ₹7,995     4.3\n",
       "16  Redmi Note 8 (Moonlight White, 64 GB)       ₹12,999     4.4\n",
       "17     Redmi Note 8 (Neptune Blue, 64 GB)       ₹12,993     4.4\n",
       "18            Redmi Note 5 (Black, 64 GB)       ₹12,500     4.4\n",
       "19          Redmi Y3 (Prime Black, 64 GB)       ₹12,999     4.4\n",
       "20         Redmi Y3 (Elegant Blue, 64 GB)       ₹12,999     4.4\n",
       "21        Redmi 8A Dual (Sea Blue, 32 GB)        ₹7,298     4.3\n",
       "22                     Mi A2 (Red, 64 GB)       ₹10,599     4.2\n",
       "23                 Redmi Go (Blue, 16 GB)        ₹6,500     4.3"
      ]
     },
     "execution_count": 46,
     "metadata": {},
     "output_type": "execute_result"
    }
   ],
   "source": [
    "df['Product Price']=prices\n",
    "df['Ratings']=ratings\n",
    "df"
   ]
  },
  {
   "cell_type": "code",
   "execution_count": null,
   "metadata": {},
   "outputs": [],
   "source": []
  }
 ],
 "metadata": {
  "kernelspec": {
   "display_name": "Python 3",
   "language": "python",
   "name": "python3"
  },
  "language_info": {
   "codemirror_mode": {
    "name": "ipython",
    "version": 3
   },
   "file_extension": ".py",
   "mimetype": "text/x-python",
   "name": "python",
   "nbconvert_exporter": "python",
   "pygments_lexer": "ipython3",
   "version": "3.7.4"
  }
 },
 "nbformat": 4,
 "nbformat_minor": 2
}
